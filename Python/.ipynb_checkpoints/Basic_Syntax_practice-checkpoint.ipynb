{
 "cells": [
  {
   "cell_type": "markdown",
   "metadata": {},
   "source": [
    "# Python Basic Sytanx"
   ]
  },
  {
   "cell_type": "markdown",
   "metadata": {},
   "source": [
    "In this Notebook, we will try cover and practice all the basic Python syntax \n",
    "required for a beginner to get start with the Python. \n",
    "The contents inculde:\n",
    "    \n",
    "     -  Comments in Python \n",
    "     -  Single, Double and tripple quotes\n",
    "     -  String inside quotes\n",
    "     -  Escape Sequence \n",
    "     -  Formatted output\n",
    "     -  Indentation"
   ]
  },
  {
   "cell_type": "markdown",
   "metadata": {},
   "source": [
    "# Comments in Python"
   ]
  },
  {
   "cell_type": "markdown",
   "metadata": {},
   "source": [
    "In Python, there are two types of comments--one is a single-line comment\n",
    "\n",
    "and the other is  multiline comment. For a single-line comment, # is used, while for a multiline comment, \n",
    "\n",
    "triple quotes \"\"\" are used:\n",
    "\n",
    "#This is a single line comment in Python\n",
    "\n"
   ]
  },
  {
   "cell_type": "code",
   "execution_count": 5,
   "metadata": {},
   "outputs": [
    {
     "name": "stdout",
     "output_type": "stream",
     "text": [
      "Hello World\n"
     ]
    }
   ],
   "source": [
    "print(\"Hello World\") #This is a single comment in Python"
   ]
  },
  {
   "cell_type": "code",
   "execution_count": 7,
   "metadata": {},
   "outputs": [
    {
     "name": "stdout",
     "output_type": "stream",
     "text": [
      "Hello World\n"
     ]
    }
   ],
   "source": [
    "\"\"\" For multi-line\n",
    "comment use three\n",
    "double quotes\n",
    "...\n",
    "\"\"\"\n",
    "\n",
    "print(\"Hello World\")"
   ]
  },
  {
   "cell_type": "markdown",
   "metadata": {},
   "source": [
    "# Triple, double and single quotes"
   ]
  },
  {
   "cell_type": "markdown",
   "metadata": {},
   "source": [
    "Python doesn't care if you use single quotes or double quotes to print a single statement.\n",
    "But, surely, both has some significance while printing complex statements, which we will\n",
    "see soon."
   ]
  },
  {
   "cell_type": "code",
   "execution_count": 8,
   "metadata": {},
   "outputs": [
    {
     "name": "stdout",
     "output_type": "stream",
     "text": [
      "Hello World\n"
     ]
    }
   ],
   "source": [
    "print('Hello World')"
   ]
  },
  {
   "cell_type": "code",
   "execution_count": 9,
   "metadata": {},
   "outputs": [
    {
     "name": "stdout",
     "output_type": "stream",
     "text": [
      "Hello World!\n"
     ]
    }
   ],
   "source": [
    "print(\"Hello World!\")"
   ]
  },
  {
   "cell_type": "code",
   "execution_count": 10,
   "metadata": {},
   "outputs": [
    {
     "name": "stdout",
     "output_type": "stream",
     "text": [
      "Hello World\n"
     ]
    }
   ],
   "source": [
    "print('''Hello World''')"
   ]
  },
  {
   "cell_type": "markdown",
   "metadata": {},
   "source": [
    "# String Inside qoutes"
   ]
  },
  {
   "cell_type": "code",
   "execution_count": 11,
   "metadata": {},
   "outputs": [
    {
     "ename": "SyntaxError",
     "evalue": "invalid syntax (<ipython-input-11-05ec1a6b7447>, line 1)",
     "output_type": "error",
     "traceback": [
      "\u001b[1;36m  File \u001b[1;32m\"<ipython-input-11-05ec1a6b7447>\"\u001b[1;36m, line \u001b[1;32m1\u001b[0m\n\u001b[1;33m    print('Hello He's My cousin')\u001b[0m\n\u001b[1;37m                    ^\u001b[0m\n\u001b[1;31mSyntaxError\u001b[0m\u001b[1;31m:\u001b[0m invalid syntax\n"
     ]
    }
   ],
   "source": [
    "print('Hello He's My cousin') #this should give an error... so whats the solution.. check below.! "
   ]
  },
  {
   "cell_type": "code",
   "execution_count": 13,
   "metadata": {},
   "outputs": [
    {
     "name": "stdout",
     "output_type": "stream",
     "text": [
      "He is Ali's cousin ! \n"
     ]
    }
   ],
   "source": [
    "#to use the string inside quotes... you should use double qoutes\n",
    "\n",
    "print(\"He is Ali's cousin ! \") #And here you go!!!!!"
   ]
  },
  {
   "cell_type": "markdown",
   "metadata": {},
   "source": [
    "# Escape sequence in Python"
   ]
  },
  {
   "cell_type": "markdown",
   "metadata": {},
   "source": [
    "The escape sequence is used to insert the tab, the newline, the backspace, and other special\n",
    "characters into your code. They give you greater control and flexibility to format your\n",
    "statements and code"
   ]
  },
  {
   "cell_type": "markdown",
   "metadata": {},
   "source": [
    "lets see some of the basic escapte sequence and their function...\n",
    "\n",
    "-b ---> Backspace\n",
    "\n",
    "-a ---> Soud System Bell\n",
    "\n",
    "-n ---> Newline\n",
    "\n",
    "-t ---> Horizontal Tab\n",
    "\n",
    "-' --=> Single qoutation marks\n"
   ]
  },
  {
   "cell_type": "code",
   "execution_count": 20,
   "metadata": {},
   "outputs": [
    {
     "name": "stdout",
     "output_type": "stream",
     "text": [
      "\u0007\n",
      "\tAli\n",
      "\n",
      " It wasn't me... \n"
     ]
    }
   ],
   "source": [
    "print(\"\\a\")\n",
    "print('\\tAli')\n",
    "print(\"\\n It wasn't me... \")"
   ]
  },
  {
   "cell_type": "markdown",
   "metadata": {},
   "source": [
    "# Indentation"
   ]
  },
  {
   "cell_type": "markdown",
   "metadata": {},
   "source": [
    "The most unique characteristic of Python, unlike other programming languages, is\n",
    "indentation. Indentation not only makes Python code readable, but also distinguishes each\n",
    "block of code from the other. Let's explain this with an example"
   ]
  },
  {
   "cell_type": "code",
   "execution_count": 21,
   "metadata": {},
   "outputs": [],
   "source": [
    "def fun():\n",
    "    pass\n",
    "for each in \"Pakistan\":\n",
    "    pass\n"
   ]
  },
  {
   "cell_type": "markdown",
   "metadata": {},
   "source": [
    "While writing the code, a new block of code starts with a colon followed by a tab. Here,\n",
    "after the function fun(), a colon is provided which will start the function body, pass is\n",
    "part of the function fun() and it is placed at one tab space. Likewise, the for loop starts\n",
    "with a colon. Here, most people get confused whether to use a tab or space. It is advisable to\n",
    "stick to only one type and follow the same across the whole code. If the indentation is not\n",
    "strictly implemented, then code execution will throw an error."
   ]
  },
  {
   "cell_type": "code",
   "execution_count": null,
   "metadata": {},
   "outputs": [],
   "source": []
  }
 ],
 "metadata": {
  "kernelspec": {
   "display_name": "Python 3",
   "language": "python",
   "name": "python3"
  },
  "language_info": {
   "codemirror_mode": {
    "name": "ipython",
    "version": 3
   },
   "file_extension": ".py",
   "mimetype": "text/x-python",
   "name": "python",
   "nbconvert_exporter": "python",
   "pygments_lexer": "ipython3",
   "version": "3.8.5"
  }
 },
 "nbformat": 4,
 "nbformat_minor": 4
}
