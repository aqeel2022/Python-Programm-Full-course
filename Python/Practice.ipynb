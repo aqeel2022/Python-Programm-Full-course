{
 "cells": [
  {
   "cell_type": "markdown",
   "metadata": {},
   "source": [
    "# Python Basics"
   ]
  },
  {
   "cell_type": "markdown",
   "metadata": {},
   "source": [
    "In this file we will just learn some of very basics of the Python programming using Jupyter Notebook. \n",
    "Before going further, I suppose that you have some understanding of the how to use Jupyter Notebook. \n",
    "If not please watch some videos on Youtube channel. "
   ]
  },
  {
   "cell_type": "markdown",
   "metadata": {},
   "source": [
    "The code below shows a very simple example of string concatenation! "
   ]
  },
  {
   "cell_type": "code",
   "execution_count": 2,
   "metadata": {},
   "outputs": [
    {
     "name": "stdout",
     "output_type": "stream",
     "text": [
      "enter your name pls : ali\n",
      " what is your age : dadu\n",
      " where are you from : dadu\n",
      "Hello ali !You are welcome ! your age is  dadu , and your city is,  dadu\n",
      "\n",
      " please proceed\n"
     ]
    }
   ],
   "source": [
    "name = input('enter your name pls : ')\n",
    "age  = input(' what is your age : ')\n",
    "city = input (' where are you from : ')\n",
    "\n",
    "print(\"Hello\", name, \"!You are welcome !\", \"your age is \", age, \", and your city is, \", city)\n",
    "print(\"\\n please proceed\")\n"
   ]
  },
  {
   "cell_type": "code",
   "execution_count": 13,
   "metadata": {},
   "outputs": [],
   "source": [
    "#type conversion"
   ]
  },
  {
   "cell_type": "code",
   "execution_count": 38,
   "metadata": {},
   "outputs": [
    {
     "name": "stdout",
     "output_type": "stream",
     "text": [
      "enter your age100\n",
      "100 <class 'str'>\n",
      "in next 10 year you will be : 110 Old\n"
     ]
    }
   ],
   "source": [
    "age = input(\"enter your age\")\n",
    "print(age, type(age))\n",
    "age = int(age) \n",
    "print(\"in next 10 year you will be :\", age+10, \"Old\")"
   ]
  },
  {
   "cell_type": "code",
   "execution_count": 44,
   "metadata": {},
   "outputs": [
    {
     "name": "stdout",
     "output_type": "stream",
     "text": [
      "What is your initial invesement40000\n",
      " you are eligible for seed funding\n"
     ]
    }
   ],
   "source": [
    "#IF ELSE STATMENT \n",
    "\n",
    "init_inv = input('What is your initial invesement :')\n",
    "init_inv = int(init_inv)\n",
    "\n",
    "if init_inv >= 30000 and init_inv <= 750000:\n",
    "    print(\" you are eligible for seed funding\")\n",
    "else:\n",
    "        print(\" you are not eligble for funding try again\")\n",
    "\n",
    "\n"
   ]
  },
  {
   "cell_type": "code",
   "execution_count": null,
   "metadata": {},
   "outputs": [],
   "source": []
  }
 ],
 "metadata": {
  "kernelspec": {
   "display_name": "Python 3",
   "language": "python",
   "name": "python3"
  },
  "language_info": {
   "codemirror_mode": {
    "name": "ipython",
    "version": 3
   },
   "file_extension": ".py",
   "mimetype": "text/x-python",
   "name": "python",
   "nbconvert_exporter": "python",
   "pygments_lexer": "ipython3",
   "version": "3.8.5"
  }
 },
 "nbformat": 4,
 "nbformat_minor": 4
}
