{
 "cells": [
  {
   "cell_type": "markdown",
   "metadata": {},
   "source": [
    "# Python Basics"
   ]
  },
  {
   "cell_type": "markdown",
   "metadata": {},
   "source": [
    "In this file we will just learn some of very basics of the Python programming using Jupyter Notebook. \n",
    "Before going further, I suppose that you have some understanding of the how to use Jupyter Notebook. \n",
    "If not please watch some videos on Youtube channel. "
   ]
  },
  {
   "cell_type": "markdown",
   "metadata": {},
   "source": [
    "Hello! Welcome..! Now we will learn about if else statments in the python .! "
   ]
  },
  {
   "cell_type": "markdown",
   "metadata": {},
   "source": [
    "let us start with very easy example. \n",
    "\n",
    "Problem...! \n",
    "Create python program that asks a user to enter his/her age and decides if he/she is elligible for\n",
    "admission in the school or not. given the conditions of the school admission.\n",
    "\n",
    "1. The age of the child should be greater than 4 years to be admitted in school"
   ]
  },
  {
   "cell_type": "code",
   "execution_count": 2,
   "metadata": {},
   "outputs": [
    {
     "name": "stdout",
     "output_type": "stream",
     "text": [
      "What is the age of child??2\n",
      " sorry you are not elligible for admission ! \n"
     ]
    }
   ],
   "source": [
    "#IF ELSE STATMENT \n",
    "#define variables\n",
    "\n",
    "student_age = input('What is the age of child??')\n",
    "#remember type converstion\n",
    "age=int(student_age)\n",
    "\n",
    "if age >= 4:\n",
    "    print(\" you are eligible for admission ! congrats ! \")\n",
    "else:\n",
    "        print(\" sorry you are not elligible for admission ! \")\n",
    "\n",
    "\n"
   ]
  },
  {
   "cell_type": "markdown",
   "metadata": {},
   "source": [
    "Let us make this program a little bit more interesting...! \n",
    "\n",
    "if the child age is greater than 4 but not over 10 years ! he is elligible ! in other case \n",
    "print you are overage! "
   ]
  },
  {
   "cell_type": "code",
   "execution_count": 12,
   "metadata": {},
   "outputs": [
    {
     "name": "stdout",
     "output_type": "stream",
     "text": [
      "What is the age of child??14\n",
      " sorry you are not elligible for admission, your age is you are either less than 4 or greater than 10 years ! \n"
     ]
    }
   ],
   "source": [
    "student_age = input('What is the age of child??')\n",
    "#remember type converstion\n",
    "age=int(student_age)\n",
    "\n",
    "if age >= 4 and age <=10:\n",
    "    print(\" Congrats! your age is \", age, \"you are eligible for admission !\")\n",
    "else:\n",
    "        print(\" sorry you are not elligible for admission, your age is you are either less than 4 or greater than 10 years ! \")"
   ]
  },
  {
   "cell_type": "markdown",
   "metadata": {},
   "source": [
    "Let us take another example in if else. Which has been experienced by everyone one of\n",
    "if you have used the social media accounts to login.\n",
    "\n",
    "\n",
    "Let us see if a user enters correct password. If not than print access denied. "
   ]
  },
  {
   "cell_type": "code",
   "execution_count": 16,
   "metadata": {},
   "outputs": [
    {
     "name": "stdout",
     "output_type": "stream",
     "text": [
      "Please enter your username: ali2\n",
      "please enter your passwordali123\n",
      "Access Denied...!! Wrong Password or username!\n"
     ]
    }
   ],
   "source": []
  },
  {
   "cell_type": "markdown",
   "metadata": {},
   "source": [
    "# Nested If else statments! "
   ]
  },
  {
   "cell_type": "markdown",
   "metadata": {},
   "source": [
    "let us make this program a little bit more interesting..! "
   ]
  },
  {
   "cell_type": "markdown",
   "metadata": {},
   "source": [
    "Syntax\n",
    "\n",
    "if condition-1:\n",
    "\n",
    "sequence of statements-1 \n",
    "\n",
    "elif condition-n:\n",
    "\n",
    "sequence of statements-n\n",
    "\n",
    "else:\n",
    "\n",
    "default sequence of statements"
   ]
  },
  {
   "cell_type": "code",
   "execution_count": null,
   "metadata": {},
   "outputs": [],
   "source": [
    "username=input(\"Please enter your username: \")\n",
    "password = input(\"please enter your password: \")\n",
    "\n",
    "if username == \"ali\" and password ==\"ali123\":\n",
    "        print(\"Welcome to Dashboard...!\")\n",
    "elif username !=\"ali\":\n",
    "    print(\"Incorrect  username ..! Please try again \")\n",
    "#    print(\"Welcome to Dashobaord\", username, \"!\")\n",
    "elif username ==\"ali\" and password !=\"ali123\":\n",
    "        print(\"Access Denied...!! correct username \", username, \"but wrong password\", password, \"Please enter correct password\")"
   ]
  },
  {
   "cell_type": "markdown",
   "metadata": {},
   "source": [
    "# GRADING EXAMPLS"
   ]
  },
  {
   "cell_type": "markdown",
   "metadata": {},
   "source": [
    "Let us now write a program to tell the grades of a student based on his marks:\n",
    "    \n",
    "    Grades A : if marks are between 80 to 90\n",
    "    Grade  B : if marks are between 70 to 80\n",
    "    Grade  C : if marks are between 60 to 70 \n",
    "    Grade  D : if marks are between 50 to 60\n",
    "    Fail     : if marks are less than 50 \n",
    "        "
   ]
  },
  {
   "cell_type": "code",
   "execution_count": 43,
   "metadata": {},
   "outputs": [
    {
     "name": "stdout",
     "output_type": "stream",
     "text": [
      "Please enter your marks : 49\n",
      " You are FAIL! Improve your results\n"
     ]
    }
   ],
   "source": [
    "#ask for the student marks\n",
    "\n",
    "student_marks = int(input(\"Please enter your marks : \"))\n",
    "\n",
    "if student_marks>= 80 and student_marks <=90:\n",
    "    print(\" You got Grade  A: \")\n",
    "elif student_marks >=70 and student_marks<=80:\n",
    "    print( \" You got Grade B: \")\n",
    "elif student_marks >=60 and student_marks <=70:\n",
    "    print( \" You got Grade C:\")\n",
    "elif student_marks >=50 and student_marks <=60:\n",
    "    print( \" You got Grade D:\")\n",
    "else:\n",
    "    print(\" You are FAIL! Improve your results\")\n",
    "    "
   ]
  },
  {
   "cell_type": "markdown",
   "metadata": {},
   "source": [
    "I think This has been a really good practice on how you can use IF, ELSE and nested IF ELSE statments in python\n",
    "\n",
    "However, it is unto you how you want to practice and solve real time problems using python...\n",
    "\n",
    "my suggestion to you would be to practice as much as possible ! It will make you expert..!\n",
    "\n",
    "Good luck..! keep practicing!!!"
   ]
  },
  {
   "cell_type": "code",
   "execution_count": null,
   "metadata": {},
   "outputs": [],
   "source": []
  }
 ],
 "metadata": {
  "kernelspec": {
   "display_name": "Python 3",
   "language": "python",
   "name": "python3"
  },
  "language_info": {
   "codemirror_mode": {
    "name": "ipython",
    "version": 3
   },
   "file_extension": ".py",
   "mimetype": "text/x-python",
   "name": "python",
   "nbconvert_exporter": "python",
   "pygments_lexer": "ipython3",
   "version": "3.8.5"
  }
 },
 "nbformat": 4,
 "nbformat_minor": 4
}
